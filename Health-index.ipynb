{
 "cells": [
  {
   "cell_type": "markdown",
   "metadata": {},
   "source": [
    "## Final Project\n",
    "\n",
    "### Health-related Index : Water availability, sanitation\n",
    "\n",
    "### Datasets:\n",
    "- Rwanda\n",
    "- Nepal\n",
    "- Haiti\n",
    "- Nigeria"
   ]
  },
  {
   "cell_type": "code",
   "execution_count": 1,
   "metadata": {
    "collapsed": false
   },
   "outputs": [
    {
     "name": "stderr",
     "output_type": "stream",
     "text": [
      "/Users/Mel/anaconda/lib/python2.7/site-packages/matplotlib/font_manager.py:273: UserWarning: Matplotlib is building the font cache using fc-list. This may take a moment.\n",
      "  warnings.warn('Matplotlib is building the font cache using fc-list. This may take a moment.')\n"
     ]
    }
   ],
   "source": [
    "import numpy as np\n",
    "from matplotlib import pyplot as plt\n",
    "import pandas as pd\n",
    "import savReaderWriter\n",
    "import seaborn as sns\n",
    "sns.set(color_codes=True)\n",
    "\n",
    "%matplotlib inline"
   ]
  },
  {
   "cell_type": "markdown",
   "metadata": {},
   "source": [
    "### Issues with savReader\n",
    "Issue due to local variable path [here]('https://bitbucket.org/fomcl/savreaderwriter/issues/16/dylibs-on-os-x-ibm-problem)"
   ]
  },
  {
   "cell_type": "markdown",
   "metadata": {},
   "source": [
    "### Health/water attributes\n",
    "\n",
    "`RWHR61FL.DCF` describes the attributes and the location of each attribute.\n",
    "\n",
    "- **HV201 : Major source of drinking water for members of the household. **\n",
    " Individual codes are country- specific, but the major categories are standard.\n",
    " \n",
    " Name=HV201_VS1\n",
    "- PIPED WATER\n",
    "- Piped into dwelling\n",
    "- Piped to yard/plot\n",
    "- Public tap/standpipe\n",
    "- TUBE WELL WATER\n",
    "- Tube well or borehole\n",
    "- DUG WELL (OPEN/PROTECTED)\n",
    "- Protected well\n",
    "- Unprotected well\n",
    "- SURFACE WATER\n",
    "- Protected spring\n",
    "- Unprotected spring\n",
    "- River/dam/lake/ponds/stream/canal/irrigation channel\n",
    "- Stone tap/dhara\n",
    "- Rainwater\n",
    "- Tanker truck\n",
    "- Cart with small tank\n",
    "- Bottled water\n",
    "- Other\n",
    "- Missing\n",
    "Name=MISSING,Special\n",
    "\n",
    "- **HV202 : Major source of water for household use other than for drinking.  **\n",
    "\n",
    "\n",
    "- **HV204 : Time taken to get to the water source for drinking water. **\n",
    "\n",
    "BASE: All respondents except those with drinking water either piped to, or available from a well in, the residence, yard or plot or who use rainwater or bottled water (HV201 <> 11 & HV201 <> 21 & HV201 <> 41 & HV201 <> 61). The actual selection criteria are country- specific.\n",
    "\n"
   ]
  },
  {
   "cell_type": "markdown",
   "metadata": {},
   "source": [
    "# 1. Rwanda"
   ]
  },
  {
   "cell_type": "code",
   "execution_count": 3,
   "metadata": {
    "collapsed": false
   },
   "outputs": [],
   "source": [
    "# Read mode opens a file for reading only.  \n",
    "DataFileIn = open('DHS_data/Rwanda-2010/RWHR61FL.dat', 'r')  \n",
    "# Read all the lines into a list.  \n",
    "DataList = DataFileIn.readlines()  \n",
    "DataFileIn.close()"
   ]
  },
  {
   "cell_type": "code",
   "execution_count": 9,
   "metadata": {
    "collapsed": true
   },
   "outputs": [],
   "source": [
    "# Get all education attributes \n",
    "list_attributes=[] \n",
    "  \n",
    "for item in DataList:\n",
    "    dict_item={}\n",
    "    dict_item['HHID'] = item[1:12] # ID \n",
    "    dict_item['HV001'] = item[16:23] # Cluster number\n",
    "    dict_item['HV002'] = item[24:27] # Household number\n",
    "    dict_item['HV005'] = item[35:42] # household sample weight\n",
    "    dict_item['HV201'] = item[116:119] # water \n",
    "    dict_item['HV202'] = item[118:121] # water \n",
    "    dict_item['HV204'] = item[120:124] # water \n",
    "    dict_item['HV205'] = item[123:126] # toilet \n",
    "    dict_item['HV270'] = item[230] # wealth index \n",
    "    dict_item['HV271'] = item[231:238] # wealth index factor score (5 decimals)\n",
    "    list_attributes.append(dict_item)"
   ]
  },
  {
   "cell_type": "code",
   "execution_count": 12,
   "metadata": {
    "collapsed": true
   },
   "outputs": [],
   "source": [
    "df_rwanda2010 = pd.DataFrame(columns=['HHID','HV001','HV002','HV005', 'HV201', 'HV202', 'HV204', 'HV205', 'HV270', 'HV271'])\n",
    "\n",
    "for i in range(len(DataList)):\n",
    "    item = DataList[i]\n",
    "    df_rwanda2010.loc[i] = pd.Series({'HHID':item[1:12], 'HV001':item[16:23], 'HV002':item[24:27], 'HV005':item[35:42], \n",
    "                                 'HV201':item[116:119], 'HV202':item[118:121], 'HV204':item[120:124],\n",
    "                                     'HV205': item[123:126],\n",
    "                                     'HV270': item[230],'HV271': item[231:238]})"
   ]
  },
  {
   "cell_type": "code",
   "execution_count": 13,
   "metadata": {
    "collapsed": false
   },
   "outputs": [
    {
     "data": {
      "text/html": [
       "<div>\n",
       "<table border=\"1\" class=\"dataframe\">\n",
       "  <thead>\n",
       "    <tr style=\"text-align: right;\">\n",
       "      <th></th>\n",
       "      <th>HHID</th>\n",
       "      <th>HV001</th>\n",
       "      <th>HV002</th>\n",
       "      <th>HV005</th>\n",
       "      <th>HV201</th>\n",
       "      <th>HV202</th>\n",
       "      <th>HV204</th>\n",
       "      <th>HV205</th>\n",
       "      <th>HV270</th>\n",
       "      <th>HV271</th>\n",
       "    </tr>\n",
       "  </thead>\n",
       "  <tbody>\n",
       "    <tr>\n",
       "      <th>0</th>\n",
       "      <td>12115</td>\n",
       "      <td>121</td>\n",
       "      <td>15</td>\n",
       "      <td>737365</td>\n",
       "      <td>2</td>\n",
       "      <td>99</td>\n",
       "      <td>9622</td>\n",
       "      <td>211</td>\n",
       "      <td></td>\n",
       "      <td>307037</td>\n",
       "    </tr>\n",
       "    <tr>\n",
       "      <th>1</th>\n",
       "      <td>12119</td>\n",
       "      <td>121</td>\n",
       "      <td>19</td>\n",
       "      <td>737365</td>\n",
       "      <td>3</td>\n",
       "      <td></td>\n",
       "      <td>522</td>\n",
       "      <td>211</td>\n",
       "      <td></td>\n",
       "      <td>148863</td>\n",
       "    </tr>\n",
       "    <tr>\n",
       "      <th>2</th>\n",
       "      <td>12121</td>\n",
       "      <td>121</td>\n",
       "      <td>21</td>\n",
       "      <td>737365</td>\n",
       "      <td>3</td>\n",
       "      <td>1</td>\n",
       "      <td>1522</td>\n",
       "      <td>201</td>\n",
       "      <td></td>\n",
       "      <td>193735</td>\n",
       "    </tr>\n",
       "    <tr>\n",
       "      <th>3</th>\n",
       "      <td>12116</td>\n",
       "      <td>121</td>\n",
       "      <td>16</td>\n",
       "      <td>737365</td>\n",
       "      <td>3</td>\n",
       "      <td>1</td>\n",
       "      <td>1522</td>\n",
       "      <td>200</td>\n",
       "      <td></td>\n",
       "      <td>14170</td>\n",
       "    </tr>\n",
       "    <tr>\n",
       "      <th>4</th>\n",
       "      <td>121 3</td>\n",
       "      <td>121</td>\n",
       "      <td>3</td>\n",
       "      <td>737365</td>\n",
       "      <td>3</td>\n",
       "      <td>99</td>\n",
       "      <td>9922</td>\n",
       "      <td>200</td>\n",
       "      <td></td>\n",
       "      <td>-7971</td>\n",
       "    </tr>\n",
       "  </tbody>\n",
       "</table>\n",
       "</div>"
      ],
      "text/plain": [
       "          HHID    HV001 HV002    HV005 HV201 HV202 HV204 HV205 HV270    HV271\n",
       "0        12115      121    15   737365   2      99  9622   211         307037\n",
       "1        12119      121    19   737365   3           522   211         148863\n",
       "2        12121      121    21   737365   3       1  1522   201         193735\n",
       "3        12116      121    16   737365   3       1  1522   200          14170\n",
       "4        121 3      121     3   737365   3      99  9922   200          -7971"
      ]
     },
     "execution_count": 13,
     "metadata": {},
     "output_type": "execute_result"
    }
   ],
   "source": [
    "df_rwanda2010.head()"
   ]
  },
  {
   "cell_type": "code",
   "execution_count": 8,
   "metadata": {
    "collapsed": false
   },
   "outputs": [
    {
     "data": {
      "text/plain": [
       "1     5438\n",
       "3     4284\n",
       "2     2649\n",
       "6      163\n",
       "9        6\n",
       "Name: HV201, dtype: int64"
      ]
     },
     "execution_count": 8,
     "metadata": {},
     "output_type": "execute_result"
    }
   ],
   "source": [
    "df_rwanda2010['HV201'].value_counts()"
   ]
  },
  {
   "cell_type": "code",
   "execution_count": 14,
   "metadata": {
    "collapsed": false
   },
   "outputs": [
    {
     "data": {
      "text/plain": [
       "3022    1593\n",
       "2022    1431\n",
       "6022    1379\n",
       "1022    1220\n",
       "1522     626\n",
       "3023     602\n",
       "9622     594\n",
       "4022     578\n",
       "6023     481\n",
       "2023     470\n",
       " 522     420\n",
       "1023     375\n",
       "4023     253\n",
       "9022     233\n",
       "1523     164\n",
       "5022     139\n",
       "2522     123\n",
       "4522     121\n",
       "9611      86\n",
       "8022      86\n",
       " 523      77\n",
       " 822      66\n",
       "9023      64\n",
       "5023      57\n",
       " 622      56\n",
       "4523      50\n",
       "2021      49\n",
       " 322      46\n",
       " 422      40\n",
       "3031      39\n",
       "        ... \n",
       " 923       1\n",
       " 314       1\n",
       "0141       1\n",
       " 313       1\n",
       "6822       1\n",
       " 621       1\n",
       "1722       1\n",
       "3596       1\n",
       "1513       1\n",
       "2513       1\n",
       " 321       1\n",
       " 296       1\n",
       " 599       1\n",
       "4596       1\n",
       " 641       1\n",
       "3015       1\n",
       "1542       1\n",
       "3012       1\n",
       "4622       1\n",
       "1541       1\n",
       "3223       1\n",
       "2013       1\n",
       "9096       1\n",
       "4222       1\n",
       "8013       1\n",
       "6123       1\n",
       "2122       1\n",
       "0023       1\n",
       "3521       1\n",
       "9696       1\n",
       "Name: HV204, dtype: int64"
      ]
     },
     "execution_count": 14,
     "metadata": {},
     "output_type": "execute_result"
    }
   ],
   "source": [
    "df_rwanda2010['HV204'].value_counts()"
   ]
  },
  {
   "cell_type": "code",
   "execution_count": 97,
   "metadata": {
    "collapsed": false
   },
   "outputs": [],
   "source": [
    "attributes_wealth= ['HV106','HV107','HV108','HV109']\n",
    "df_rwanda2010[attributes_wealth] = df_rwanda2010[attributes_wealth].replace(r'\\s+', np.nan, regex=True)"
   ]
  },
  {
   "cell_type": "code",
   "execution_count": 23,
   "metadata": {
    "collapsed": false
   },
   "outputs": [
    {
     "data": {
      "text/html": [
       "<div>\n",
       "<table border=\"1\" class=\"dataframe\">\n",
       "  <thead>\n",
       "    <tr style=\"text-align: right;\">\n",
       "      <th></th>\n",
       "      <th>HHID</th>\n",
       "      <th>HV001</th>\n",
       "      <th>HV002</th>\n",
       "      <th>HV005</th>\n",
       "      <th>HV201</th>\n",
       "      <th>HV202</th>\n",
       "      <th>HV204</th>\n",
       "      <th>HV205</th>\n",
       "      <th>HV270</th>\n",
       "      <th>HV271</th>\n",
       "      <th>HV04</th>\n",
       "      <th>time_water_source_min</th>\n",
       "      <th>time_water_source_hours</th>\n",
       "    </tr>\n",
       "  </thead>\n",
       "  <tbody>\n",
       "    <tr>\n",
       "      <th>0</th>\n",
       "      <td>12115</td>\n",
       "      <td>121</td>\n",
       "      <td>15</td>\n",
       "      <td>737365</td>\n",
       "      <td>2</td>\n",
       "      <td>99</td>\n",
       "      <td>9622</td>\n",
       "      <td>211</td>\n",
       "      <td></td>\n",
       "      <td>307037</td>\n",
       "      <td>9622</td>\n",
       "      <td>9622</td>\n",
       "      <td>160.366667</td>\n",
       "    </tr>\n",
       "    <tr>\n",
       "      <th>1</th>\n",
       "      <td>12119</td>\n",
       "      <td>121</td>\n",
       "      <td>19</td>\n",
       "      <td>737365</td>\n",
       "      <td>3</td>\n",
       "      <td></td>\n",
       "      <td>522</td>\n",
       "      <td>211</td>\n",
       "      <td></td>\n",
       "      <td>148863</td>\n",
       "      <td>522</td>\n",
       "      <td>522</td>\n",
       "      <td>8.700000</td>\n",
       "    </tr>\n",
       "    <tr>\n",
       "      <th>2</th>\n",
       "      <td>12121</td>\n",
       "      <td>121</td>\n",
       "      <td>21</td>\n",
       "      <td>737365</td>\n",
       "      <td>3</td>\n",
       "      <td>1</td>\n",
       "      <td>1522</td>\n",
       "      <td>201</td>\n",
       "      <td></td>\n",
       "      <td>193735</td>\n",
       "      <td>1522</td>\n",
       "      <td>1522</td>\n",
       "      <td>25.366667</td>\n",
       "    </tr>\n",
       "    <tr>\n",
       "      <th>3</th>\n",
       "      <td>12116</td>\n",
       "      <td>121</td>\n",
       "      <td>16</td>\n",
       "      <td>737365</td>\n",
       "      <td>3</td>\n",
       "      <td>1</td>\n",
       "      <td>1522</td>\n",
       "      <td>200</td>\n",
       "      <td></td>\n",
       "      <td>14170</td>\n",
       "      <td>1522</td>\n",
       "      <td>1522</td>\n",
       "      <td>25.366667</td>\n",
       "    </tr>\n",
       "    <tr>\n",
       "      <th>4</th>\n",
       "      <td>121 3</td>\n",
       "      <td>121</td>\n",
       "      <td>3</td>\n",
       "      <td>737365</td>\n",
       "      <td>3</td>\n",
       "      <td>99</td>\n",
       "      <td>9922</td>\n",
       "      <td>200</td>\n",
       "      <td></td>\n",
       "      <td>-7971</td>\n",
       "      <td>9922</td>\n",
       "      <td>9922</td>\n",
       "      <td>165.366667</td>\n",
       "    </tr>\n",
       "  </tbody>\n",
       "</table>\n",
       "</div>"
      ],
      "text/plain": [
       "          HHID    HV001 HV002    HV005 HV201 HV202 HV204 HV205 HV270    HV271  \\\n",
       "0        12115      121    15   737365   2      99  9622   211         307037   \n",
       "1        12119      121    19   737365   3           522   211         148863   \n",
       "2        12121      121    21   737365   3       1  1522   201         193735   \n",
       "3        12116      121    16   737365   3       1  1522   200          14170   \n",
       "4        121 3      121     3   737365   3      99  9922   200          -7971   \n",
       "\n",
       "   HV04  time_water_source_min  time_water_source_hours  \n",
       "0  9622                   9622               160.366667  \n",
       "1   522                    522                 8.700000  \n",
       "2  1522                   1522                25.366667  \n",
       "3  1522                   1522                25.366667  \n",
       "4  9922                   9922               165.366667  "
      ]
     },
     "execution_count": 23,
     "metadata": {},
     "output_type": "execute_result"
    }
   ],
   "source": [
    "df_rwanda2010.head()"
   ]
  },
  {
   "cell_type": "code",
   "execution_count": 20,
   "metadata": {
    "collapsed": false
   },
   "outputs": [
    {
     "data": {
      "text/plain": [
       "HHID     object\n",
       "HV001    object\n",
       "HV002    object\n",
       "HV005    object\n",
       "HV201    object\n",
       "HV202    object\n",
       "HV204    object\n",
       "HV205    object\n",
       "HV270    object\n",
       "HV271    object\n",
       "dtype: object"
      ]
     },
     "execution_count": 20,
     "metadata": {},
     "output_type": "execute_result"
    }
   ],
   "source": [
    "df_rwanda2010.dtypes"
   ]
  },
  {
   "cell_type": "code",
   "execution_count": 21,
   "metadata": {
    "collapsed": false
   },
   "outputs": [],
   "source": [
    "df_rwanda2010['HV04'] = pd.to_numeric(df_rwanda2010['HV204'])\n",
    "#df_rwanda2010[['HV106', 'HV271']].convert_objects(convert_numeric=True)"
   ]
  },
  {
   "cell_type": "code",
   "execution_count": 22,
   "metadata": {
    "collapsed": false
   },
   "outputs": [],
   "source": [
    "df_rwanda2010['time_water_source_min'] = df_rwanda2010['HV04']\n",
    "df_rwanda2010['time_water_source_hours'] = df_rwanda2010['HV04']/float(60)"
   ]
  },
  {
   "cell_type": "code",
   "execution_count": 15,
   "metadata": {
    "collapsed": false
   },
   "outputs": [
    {
     "data": {
      "text/plain": [
       "HHID     0\n",
       "HV001    0\n",
       "HV002    0\n",
       "HV005    0\n",
       "HV201    0\n",
       "HV202    0\n",
       "HV204    0\n",
       "HV205    0\n",
       "HV270    0\n",
       "HV271    0\n",
       "dtype: int64"
      ]
     },
     "execution_count": 15,
     "metadata": {},
     "output_type": "execute_result"
    }
   ],
   "source": [
    "df_rwanda2010.isnull().sum()"
   ]
  },
  {
   "cell_type": "code",
   "execution_count": 27,
   "metadata": {
    "collapsed": true
   },
   "outputs": [],
   "source": [
    "df_rwanda2010_clean = df_rwanda2010[['HHID', 'HV001', 'HV002', 'HV005', 'HV201', 'HV204', 'HV205']]"
   ]
  },
  {
   "cell_type": "code",
   "execution_count": 28,
   "metadata": {
    "collapsed": false
   },
   "outputs": [
    {
     "data": {
      "text/html": [
       "<div>\n",
       "<table border=\"1\" class=\"dataframe\">\n",
       "  <thead>\n",
       "    <tr style=\"text-align: right;\">\n",
       "      <th></th>\n",
       "      <th>HHID</th>\n",
       "      <th>HV001</th>\n",
       "      <th>HV002</th>\n",
       "      <th>HV005</th>\n",
       "      <th>HV201</th>\n",
       "      <th>HV204</th>\n",
       "      <th>HV205</th>\n",
       "    </tr>\n",
       "  </thead>\n",
       "  <tbody>\n",
       "    <tr>\n",
       "      <th>0</th>\n",
       "      <td>12115</td>\n",
       "      <td>121</td>\n",
       "      <td>15</td>\n",
       "      <td>737365</td>\n",
       "      <td>2</td>\n",
       "      <td>9622</td>\n",
       "      <td>211</td>\n",
       "    </tr>\n",
       "    <tr>\n",
       "      <th>1</th>\n",
       "      <td>12119</td>\n",
       "      <td>121</td>\n",
       "      <td>19</td>\n",
       "      <td>737365</td>\n",
       "      <td>3</td>\n",
       "      <td>522</td>\n",
       "      <td>211</td>\n",
       "    </tr>\n",
       "    <tr>\n",
       "      <th>2</th>\n",
       "      <td>12121</td>\n",
       "      <td>121</td>\n",
       "      <td>21</td>\n",
       "      <td>737365</td>\n",
       "      <td>3</td>\n",
       "      <td>1522</td>\n",
       "      <td>201</td>\n",
       "    </tr>\n",
       "    <tr>\n",
       "      <th>3</th>\n",
       "      <td>12116</td>\n",
       "      <td>121</td>\n",
       "      <td>16</td>\n",
       "      <td>737365</td>\n",
       "      <td>3</td>\n",
       "      <td>1522</td>\n",
       "      <td>200</td>\n",
       "    </tr>\n",
       "    <tr>\n",
       "      <th>4</th>\n",
       "      <td>121 3</td>\n",
       "      <td>121</td>\n",
       "      <td>3</td>\n",
       "      <td>737365</td>\n",
       "      <td>3</td>\n",
       "      <td>9922</td>\n",
       "      <td>200</td>\n",
       "    </tr>\n",
       "  </tbody>\n",
       "</table>\n",
       "</div>"
      ],
      "text/plain": [
       "          HHID    HV001 HV002    HV005 HV201 HV204 HV205\n",
       "0        12115      121    15   737365   2    9622   211\n",
       "1        12119      121    19   737365   3     522   211\n",
       "2        12121      121    21   737365   3    1522   201\n",
       "3        12116      121    16   737365   3    1522   200\n",
       "4        121 3      121     3   737365   3    9922   200"
      ]
     },
     "execution_count": 28,
     "metadata": {},
     "output_type": "execute_result"
    }
   ],
   "source": [
    "df_rwanda2010_clean.head()"
   ]
  },
  {
   "cell_type": "code",
   "execution_count": 148,
   "metadata": {
    "collapsed": false
   },
   "outputs": [
    {
     "data": {
      "text/plain": [
       "492"
      ]
     },
     "execution_count": 148,
     "metadata": {},
     "output_type": "execute_result"
    }
   ],
   "source": [
    "# Number of unique clusters\n",
    "len(df_rwanda2010['HV001'].unique())"
   ]
  },
  {
   "cell_type": "code",
   "execution_count": 29,
   "metadata": {
    "collapsed": false
   },
   "outputs": [],
   "source": [
    "# Save as a .csv file\n",
    "df_rwanda2010.to_csv('datasets-water/rwanda2010_water.csv', header=True)"
   ]
  },
  {
   "cell_type": "markdown",
   "metadata": {},
   "source": [
    "### Rwanda : Distribution of HV204 : Time to get to water source"
   ]
  },
  {
   "cell_type": "code",
   "execution_count": 40,
   "metadata": {
    "collapsed": false
   },
   "outputs": [
    {
     "data": {
      "image/png": "[encoded data removed]",
      "text/plain": [
       "<matplotlib.figure.Figure at 0x11f7a0090>"
      ]
     },
     "metadata": {},
     "output_type": "display_data"
    }
   ],
   "source": [
    "x = df_rwanda2010[['HV204']].dropna(axis=0).astype(str).astype(int)\n",
    "sns_plot = sns.distplot(x, kde=False, axlabel='Time in minutes');\n",
    "fig = sns_plot.get_figure()\n",
    "fig.suptitle('Distribution of time to get to water source HV204 in Rwanda (DHS 2010)')\n",
    "fig.savefig('plots-water/dist_rwanda2010_HV204.png') "
   ]
  },
  {
   "cell_type": "code",
   "execution_count": 19,
   "metadata": {
    "collapsed": false
   },
   "outputs": [
    {
     "data": {
      "image/png": "[encoded data removed]",
      "text/plain": [
       "<matplotlib.figure.Figure at 0x11622c390>"
      ]
     },
     "metadata": {},
     "output_type": "display_data"
    }
   ],
   "source": [
    "# Cumulative distribution\n",
    "x = df_rwanda2010[['HV204']].dropna(axis=0).astype(str).astype(int)\n",
    "sns_plot = sns.distplot(x, hist_kws=dict(cumulative=True),kde_kws=dict(cumulative=True), axlabel='Time in minutes');\n",
    "fig = sns_plot.get_figure()\n",
    "fig.suptitle('Cumulative distribution of time to get to water source HV204 in Rwanda (DHS 2010)')\n",
    "fig.savefig('plots-water/cumul_dist_rwanda2010_HV204.png') "
   ]
  },
  {
   "cell_type": "markdown",
   "metadata": {},
   "source": [
    "# 2. Nepal"
   ]
  },
  {
   "cell_type": "code",
   "execution_count": 31,
   "metadata": {
    "collapsed": true
   },
   "outputs": [],
   "source": [
    "# Read mode opens a file for reading only.  \n",
    "DataFileIn = open('DHS_data/Nepal-2011/NP_2011_DHS_04032017_1945_104303/nphr60fl/NPHR60FL.dat', 'r')  \n",
    "# Read all the lines into a list.  \n",
    "DataList = DataFileIn.readlines()  \n",
    "DataFileIn.close()"
   ]
  },
  {
   "cell_type": "code",
   "execution_count": 32,
   "metadata": {
    "collapsed": true
   },
   "outputs": [],
   "source": [
    "df_nepal2011 = pd.DataFrame(columns=['HHID','HV001','HV002','HV005', 'HV201', 'HV202', 'HV204', 'HV205'])\n",
    "\n",
    "for i in range(len(DataList)):\n",
    "    item = DataList[i]\n",
    "    df_nepal2011.loc[i] = pd.Series({'HHID':item[1:12], 'HV001':item[16:23], 'HV002':item[24:27], 'HV005':item[35:42], \n",
    "                                 'HV201':item[116:119], 'HV202':item[118:121], 'HV204':item[120:124],\n",
    "                                     'HV205': item[123:126]})  "
   ]
  },
  {
   "cell_type": "code",
   "execution_count": 33,
   "metadata": {
    "collapsed": false
   },
   "outputs": [
    {
     "data": {
      "text/html": [
       "<div>\n",
       "<table border=\"1\" class=\"dataframe\">\n",
       "  <thead>\n",
       "    <tr style=\"text-align: right;\">\n",
       "      <th></th>\n",
       "      <th>HHID</th>\n",
       "      <th>HV001</th>\n",
       "      <th>HV002</th>\n",
       "      <th>HV005</th>\n",
       "      <th>HV201</th>\n",
       "      <th>HV202</th>\n",
       "      <th>HV204</th>\n",
       "      <th>HV205</th>\n",
       "    </tr>\n",
       "  </thead>\n",
       "  <tbody>\n",
       "    <tr>\n",
       "      <th>0</th>\n",
       "      <td>101  12</td>\n",
       "      <td>101</td>\n",
       "      <td>12</td>\n",
       "      <td>346129</td>\n",
       "      <td>2</td>\n",
       "      <td>99</td>\n",
       "      <td>9613</td>\n",
       "      <td>311</td>\n",
       "    </tr>\n",
       "    <tr>\n",
       "      <th>1</th>\n",
       "      <td>101  13</td>\n",
       "      <td>101</td>\n",
       "      <td>13</td>\n",
       "      <td>346129</td>\n",
       "      <td>2</td>\n",
       "      <td>99</td>\n",
       "      <td>9613</td>\n",
       "      <td>311</td>\n",
       "    </tr>\n",
       "    <tr>\n",
       "      <th>2</th>\n",
       "      <td>101  14</td>\n",
       "      <td>101</td>\n",
       "      <td>14</td>\n",
       "      <td>346129</td>\n",
       "      <td>2</td>\n",
       "      <td>99</td>\n",
       "      <td>9622</td>\n",
       "      <td>210</td>\n",
       "    </tr>\n",
       "    <tr>\n",
       "      <th>3</th>\n",
       "      <td>101  15</td>\n",
       "      <td>101</td>\n",
       "      <td>15</td>\n",
       "      <td>346129</td>\n",
       "      <td>2</td>\n",
       "      <td>99</td>\n",
       "      <td>9613</td>\n",
       "      <td>311</td>\n",
       "    </tr>\n",
       "    <tr>\n",
       "      <th>4</th>\n",
       "      <td>101  16</td>\n",
       "      <td>101</td>\n",
       "      <td>16</td>\n",
       "      <td>346129</td>\n",
       "      <td>2</td>\n",
       "      <td>99</td>\n",
       "      <td>9614</td>\n",
       "      <td>411</td>\n",
       "    </tr>\n",
       "  </tbody>\n",
       "</table>\n",
       "</div>"
      ],
      "text/plain": [
       "          HHID    HV001 HV002    HV005 HV201 HV202 HV204 HV205\n",
       "0      101  12      101    12   346129   2      99  9613   311\n",
       "1      101  13      101    13   346129   2      99  9613   311\n",
       "2      101  14      101    14   346129   2      99  9622   210\n",
       "3      101  15      101    15   346129   2      99  9613   311\n",
       "4      101  16      101    16   346129   2      99  9614   411"
      ]
     },
     "execution_count": 33,
     "metadata": {},
     "output_type": "execute_result"
    }
   ],
   "source": [
    "df_nepal2011.head()"
   ]
  },
  {
   "cell_type": "code",
   "execution_count": 34,
   "metadata": {
    "collapsed": false
   },
   "outputs": [
    {
     "data": {
      "text/plain": [
       "HHID     object\n",
       "HV001    object\n",
       "HV002    object\n",
       "HV005    object\n",
       "HV201    object\n",
       "HV202    object\n",
       "HV204    object\n",
       "HV205    object\n",
       "dtype: object"
      ]
     },
     "execution_count": 34,
     "metadata": {},
     "output_type": "execute_result"
    }
   ],
   "source": [
    "df_nepal2011.dtypes"
   ]
  },
  {
   "cell_type": "code",
   "execution_count": 35,
   "metadata": {
    "collapsed": false
   },
   "outputs": [
    {
     "data": {
      "text/plain": [
       "HHID     0\n",
       "HV001    0\n",
       "HV002    0\n",
       "HV005    0\n",
       "HV201    0\n",
       "HV202    0\n",
       "HV204    0\n",
       "HV205    0\n",
       "dtype: int64"
      ]
     },
     "execution_count": 35,
     "metadata": {},
     "output_type": "execute_result"
    }
   ],
   "source": [
    "df_nepal2011.isnull().sum()"
   ]
  },
  {
   "cell_type": "code",
   "execution_count": 124,
   "metadata": {
    "collapsed": true
   },
   "outputs": [],
   "source": [
    "# Replace empty cells with NaN\n",
    "attributes= ['HV106']\n",
    "df_nepal2011[attributes] = df_nepal2011[attributes].replace(r'\\s+', np.nan, regex=True)"
   ]
  },
  {
   "cell_type": "code",
   "execution_count": 149,
   "metadata": {
    "collapsed": false
   },
   "outputs": [
    {
     "data": {
      "text/plain": [
       "289"
      ]
     },
     "execution_count": 149,
     "metadata": {},
     "output_type": "execute_result"
    }
   ],
   "source": [
    "# Number of unique clusters\n",
    "len(df_nepal2011['HV001'].unique())"
   ]
  },
  {
   "cell_type": "code",
   "execution_count": 36,
   "metadata": {
    "collapsed": false
   },
   "outputs": [],
   "source": [
    "df_nepal2011['HV04'] = pd.to_numeric(df_rwanda2010['HV204'])\n",
    "df_nepal2011['time_water_source_min'] = df_rwanda2010['HV04']\n",
    "df_nepal2011['time_water_source_hours'] = df_rwanda2010['HV04']/float(60)"
   ]
  },
  {
   "cell_type": "code",
   "execution_count": 37,
   "metadata": {
    "collapsed": false
   },
   "outputs": [
    {
     "data": {
      "text/html": [
       "<div>\n",
       "<table border=\"1\" class=\"dataframe\">\n",
       "  <thead>\n",
       "    <tr style=\"text-align: right;\">\n",
       "      <th></th>\n",
       "      <th>HHID</th>\n",
       "      <th>HV001</th>\n",
       "      <th>HV002</th>\n",
       "      <th>HV005</th>\n",
       "      <th>HV201</th>\n",
       "      <th>HV204</th>\n",
       "      <th>HV205</th>\n",
       "    </tr>\n",
       "  </thead>\n",
       "  <tbody>\n",
       "    <tr>\n",
       "      <th>0</th>\n",
       "      <td>101  12</td>\n",
       "      <td>101</td>\n",
       "      <td>12</td>\n",
       "      <td>346129</td>\n",
       "      <td>2</td>\n",
       "      <td>9613</td>\n",
       "      <td>311</td>\n",
       "    </tr>\n",
       "    <tr>\n",
       "      <th>1</th>\n",
       "      <td>101  13</td>\n",
       "      <td>101</td>\n",
       "      <td>13</td>\n",
       "      <td>346129</td>\n",
       "      <td>2</td>\n",
       "      <td>9613</td>\n",
       "      <td>311</td>\n",
       "    </tr>\n",
       "    <tr>\n",
       "      <th>2</th>\n",
       "      <td>101  14</td>\n",
       "      <td>101</td>\n",
       "      <td>14</td>\n",
       "      <td>346129</td>\n",
       "      <td>2</td>\n",
       "      <td>9622</td>\n",
       "      <td>210</td>\n",
       "    </tr>\n",
       "    <tr>\n",
       "      <th>3</th>\n",
       "      <td>101  15</td>\n",
       "      <td>101</td>\n",
       "      <td>15</td>\n",
       "      <td>346129</td>\n",
       "      <td>2</td>\n",
       "      <td>9613</td>\n",
       "      <td>311</td>\n",
       "    </tr>\n",
       "    <tr>\n",
       "      <th>4</th>\n",
       "      <td>101  16</td>\n",
       "      <td>101</td>\n",
       "      <td>16</td>\n",
       "      <td>346129</td>\n",
       "      <td>2</td>\n",
       "      <td>9614</td>\n",
       "      <td>411</td>\n",
       "    </tr>\n",
       "  </tbody>\n",
       "</table>\n",
       "</div>"
      ],
      "text/plain": [
       "          HHID    HV001 HV002    HV005 HV201 HV204 HV205\n",
       "0      101  12      101    12   346129   2    9613   311\n",
       "1      101  13      101    13   346129   2    9613   311\n",
       "2      101  14      101    14   346129   2    9622   210\n",
       "3      101  15      101    15   346129   2    9613   311\n",
       "4      101  16      101    16   346129   2    9614   411"
      ]
     },
     "execution_count": 37,
     "metadata": {},
     "output_type": "execute_result"
    }
   ],
   "source": [
    "df_nepal2011_clean = df_nepal2011[['HHID', 'HV001', 'HV002', 'HV005', 'HV201', 'HV204', 'HV205']]\n",
    "df_nepal2011_clean.head()"
   ]
  },
  {
   "cell_type": "code",
   "execution_count": 38,
   "metadata": {
    "collapsed": false
   },
   "outputs": [],
   "source": [
    "# Save as a .csv file\n",
    "df_nepal2011_clean.to_csv('datasets-water/nepal2011_water.csv', header=True)"
   ]
  },
  {
   "cell_type": "code",
   "execution_count": 39,
   "metadata": {
    "collapsed": false
   },
   "outputs": [
    {
     "data": {
      "image/png": "[encoded data removed]",
      "text/plain": [
       "<matplotlib.figure.Figure at 0x11f1147d0>"
      ]
     },
     "metadata": {},
     "output_type": "display_data"
    }
   ],
   "source": [
    "x = df_nepal2011[['HV204']].dropna(axis=0).astype(str).astype(int)\n",
    "sns_plot = sns.distplot(x, kde=False, axlabel='Time in minutes', color='y');\n",
    "fig = sns_plot.get_figure()\n",
    "fig.suptitle('Distribution of time to get to water source HV204 in Nepal (DHS 2011)')\n",
    "fig.savefig('plots-water/dist_nepal2011_HV204.png') "
   ]
  },
  {
   "cell_type": "code",
   "execution_count": 41,
   "metadata": {
    "collapsed": false
   },
   "outputs": [
    {
     "data": {
      "image/png": "[encoded data removed]",
      "text/plain": [
       "<matplotlib.figure.Figure at 0x120679790>"
      ]
     },
     "metadata": {},
     "output_type": "display_data"
    }
   ],
   "source": [
    "# Cumulative distribution\n",
    "x = df_nepal2011[['HV204']].dropna(axis=0).astype(str).astype(int)\n",
    "sns_plot = sns.distplot(x, hist_kws=dict(cumulative=True),kde_kws=dict(cumulative=True), axlabel='Time in minutes', color='y');\n",
    "fig = sns_plot.get_figure()\n",
    "fig.suptitle('Cumulative distribution of time to get to water source HV204 in Nepal (DHS 2011)')\n",
    "fig.savefig('plots-water/cumul_dist_nepal2011_HV204.png') "
   ]
  },
  {
   "cell_type": "markdown",
   "metadata": {},
   "source": [
    "# 6. Haiti 2012"
   ]
  },
  {
   "cell_type": "code",
   "execution_count": 42,
   "metadata": {
    "collapsed": false
   },
   "outputs": [],
   "source": [
    "# Read mode opens a file for reading only.  \n",
    "DataFileIn = open('DHS_data/Haiti-2012/HT_2012_DHS_04032017_2011_104303/hthr61fl/hthr61fl.dat', 'r')  \n",
    "# Read all the lines into a list.  \n",
    "DataList = DataFileIn.readlines()  \n",
    "DataFileIn.close()"
   ]
  },
  {
   "cell_type": "code",
   "execution_count": 43,
   "metadata": {
    "collapsed": true
   },
   "outputs": [],
   "source": [
    "df_haiti2012 = pd.DataFrame(columns=['HHID','HV001','HV002','HV005', 'HV201', 'HV202', 'HV204', 'HV205'])\n",
    "\n",
    "for i in range(len(DataList)):\n",
    "    item = DataList[i]\n",
    "    df_haiti2012.loc[i] = pd.Series({'HHID':item[1:12], 'HV001':item[16:23], 'HV002':item[24:27], 'HV005':item[35:42], \n",
    "                                 'HV201':item[116:119], 'HV202':item[118:121], 'HV204':item[120:124],\n",
    "                                     'HV205': item[123:126]})   "
   ]
  },
  {
   "cell_type": "code",
   "execution_count": 45,
   "metadata": {
    "collapsed": false
   },
   "outputs": [
    {
     "data": {
      "text/html": [
       "<div>\n",
       "<table border=\"1\" class=\"dataframe\">\n",
       "  <thead>\n",
       "    <tr style=\"text-align: right;\">\n",
       "      <th></th>\n",
       "      <th>HHID</th>\n",
       "      <th>HV001</th>\n",
       "      <th>HV002</th>\n",
       "      <th>HV005</th>\n",
       "      <th>HV201</th>\n",
       "      <th>HV202</th>\n",
       "      <th>HV204</th>\n",
       "      <th>HV205</th>\n",
       "    </tr>\n",
       "  </thead>\n",
       "  <tbody>\n",
       "    <tr>\n",
       "      <th>0</th>\n",
       "      <td>1 1</td>\n",
       "      <td>1</td>\n",
       "      <td>1</td>\n",
       "      <td>1956277</td>\n",
       "      <td>2</td>\n",
       "      <td>1</td>\n",
       "      <td>1022</td>\n",
       "      <td>211</td>\n",
       "    </tr>\n",
       "    <tr>\n",
       "      <th>1</th>\n",
       "      <td>1 2</td>\n",
       "      <td>1</td>\n",
       "      <td>2</td>\n",
       "      <td>1956277</td>\n",
       "      <td>1</td>\n",
       "      <td>3</td>\n",
       "      <td>3012</td>\n",
       "      <td>211</td>\n",
       "    </tr>\n",
       "    <tr>\n",
       "      <th>2</th>\n",
       "      <td>1 3</td>\n",
       "      <td>1</td>\n",
       "      <td>3</td>\n",
       "      <td>1956277</td>\n",
       "      <td>3</td>\n",
       "      <td>1</td>\n",
       "      <td>1012</td>\n",
       "      <td>210</td>\n",
       "    </tr>\n",
       "    <tr>\n",
       "      <th>3</th>\n",
       "      <td>1 4</td>\n",
       "      <td>1</td>\n",
       "      <td>4</td>\n",
       "      <td>1956277</td>\n",
       "      <td>2</td>\n",
       "      <td>1</td>\n",
       "      <td>1012</td>\n",
       "      <td>211</td>\n",
       "    </tr>\n",
       "    <tr>\n",
       "      <th>4</th>\n",
       "      <td>1 5</td>\n",
       "      <td>1</td>\n",
       "      <td>5</td>\n",
       "      <td>1956277</td>\n",
       "      <td>2</td>\n",
       "      <td>99</td>\n",
       "      <td>9812</td>\n",
       "      <td>211</td>\n",
       "    </tr>\n",
       "  </tbody>\n",
       "</table>\n",
       "</div>"
      ],
      "text/plain": [
       "          HHID    HV001 HV002    HV005 HV201 HV202 HV204 HV205\n",
       "0          1 1        1     1  1956277   2       1  1022   211\n",
       "1          1 2        1     2  1956277   1       3  3012   211\n",
       "2          1 3        1     3  1956277   3       1  1012   210\n",
       "3          1 4        1     4  1956277   2       1  1012   211\n",
       "4          1 5        1     5  1956277   2      99  9812   211"
      ]
     },
     "execution_count": 45,
     "metadata": {},
     "output_type": "execute_result"
    }
   ],
   "source": [
    "df_haiti2012.head()"
   ]
  },
  {
   "cell_type": "code",
   "execution_count": 47,
   "metadata": {
    "collapsed": false
   },
   "outputs": [
    {
     "data": {
      "text/plain": [
       "HHID     object\n",
       "HV001    object\n",
       "HV002    object\n",
       "HV005    object\n",
       "HV201    object\n",
       "HV202    object\n",
       "HV204    object\n",
       "HV205    object\n",
       "dtype: object"
      ]
     },
     "execution_count": 47,
     "metadata": {},
     "output_type": "execute_result"
    }
   ],
   "source": [
    "df_haiti2012.dtypes"
   ]
  },
  {
   "cell_type": "code",
   "execution_count": 48,
   "metadata": {
    "collapsed": false
   },
   "outputs": [
    {
     "data": {
      "text/plain": [
       "HHID     0\n",
       "HV001    0\n",
       "HV002    0\n",
       "HV005    0\n",
       "HV201    0\n",
       "HV202    0\n",
       "HV204    0\n",
       "HV205    0\n",
       "dtype: int64"
      ]
     },
     "execution_count": 48,
     "metadata": {},
     "output_type": "execute_result"
    }
   ],
   "source": [
    "df_haiti2012.isnull().sum()"
   ]
  },
  {
   "cell_type": "code",
   "execution_count": 50,
   "metadata": {
    "collapsed": false
   },
   "outputs": [
    {
     "data": {
      "text/plain": [
       "445"
      ]
     },
     "execution_count": 50,
     "metadata": {},
     "output_type": "execute_result"
    }
   ],
   "source": [
    "# Number of unique clusters\n",
    "len(df_haiti['HV001'].unique())"
   ]
  },
  {
   "cell_type": "code",
   "execution_count": 49,
   "metadata": {
    "collapsed": true
   },
   "outputs": [],
   "source": [
    "df_haiti2012['HV04'] = pd.to_numeric(df_rwanda2010['HV204'])\n",
    "df_haiti2012['time_water_source_min'] = df_rwanda2010['HV04']\n",
    "df_haiti2012['time_water_source_hours'] = df_rwanda2010['HV04']/float(60)"
   ]
  },
  {
   "cell_type": "code",
   "execution_count": 50,
   "metadata": {
    "collapsed": true
   },
   "outputs": [],
   "source": [
    "# Save as a .csv file\n",
    "df_haiti2012_clean = df_haiti2012[['HHID', 'HV001', 'HV002', 'HV005', 'HV201', 'HV204', 'HV205']]\n",
    "df_haiti2012_clean.head()\n",
    "df_haiti2012_clean.to_csv('datasets-water/haiti2012_water.csv', header=True)"
   ]
  },
  {
   "cell_type": "code",
   "execution_count": 51,
   "metadata": {
    "collapsed": false
   },
   "outputs": [
    {
     "data": {
      "image/png": "[encoded data removed]",
      "text/plain": [
       "<matplotlib.figure.Figure at 0x120e10190>"
      ]
     },
     "metadata": {},
     "output_type": "display_data"
    }
   ],
   "source": [
    "x = df_haiti2012[['HV204']].dropna(axis=0).astype(str).astype(int)\n",
    "sns_plot = sns.distplot(x, kde=False, axlabel='Time in minutes', color='#FA8072');\n",
    "fig = sns_plot.get_figure()\n",
    "fig.suptitle('Distribution of time to get to water source HV204 in Haiti (DHS 2012)')\n",
    "fig.savefig('plots-water/dist_haiti2012_HV204.png') "
   ]
  },
  {
   "cell_type": "code",
   "execution_count": 52,
   "metadata": {
    "collapsed": false
   },
   "outputs": [
    {
     "data": {
      "image/png": "[encoded data removed]",
      "text/plain": [
       "<matplotlib.figure.Figure at 0x120e87cd0>"
      ]
     },
     "metadata": {},
     "output_type": "display_data"
    }
   ],
   "source": [
    "# Cumulative distribution\n",
    "x = df_haiti2012[['HV204']].dropna(axis=0).astype(str).astype(int)\n",
    "sns_plot = sns.distplot(x, hist_kws=dict(cumulative=True),kde_kws=dict(cumulative=True), axlabel='Time in minutes', \n",
    "                        color='#FA8072');\n",
    "fig = sns_plot.get_figure()\n",
    "fig.suptitle('Cumulative distribution of time to get to water source HV204 in Haiti (DHS 2012)')\n",
    "fig.savefig('plots-water/cumul_dist_haiti2012_HV204.png') "
   ]
  }
 ],
 "metadata": {
  "anaconda-cloud": {},
  "kernelspec": {
   "display_name": "Python [default]",
   "language": "python",
   "name": "python2"
  },
  "language_info": {
   "codemirror_mode": {
    "name": "ipython",
    "version": 2
   },
   "file_extension": ".py",
   "mimetype": "text/x-python",
   "name": "python",
   "nbconvert_exporter": "python",
   "pygments_lexer": "ipython2",
   "version": "2.7.12"
  }
 },
 "nbformat": 4,
 "nbformat_minor": 1
}
